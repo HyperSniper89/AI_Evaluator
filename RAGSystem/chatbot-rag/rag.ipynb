{
 "cells": [
  {
   "cell_type": "code",
   "execution_count": 105,
   "metadata": {},
   "outputs": [],
   "source": [
    "import os\n",
    "from dotenv import load_dotenv\n",
    "\n",
    "load_dotenv()\n",
    "\n",
    "OPENAI_API_KEY = os.getenv(\"OPENAI_API_KEY\")\n",
    "PINECONE_API_KEY = os.getenv(\"PINECONE_API_KEY\")"
   ]
  },
  {
   "cell_type": "code",
   "execution_count": 106,
   "metadata": {},
   "outputs": [],
   "source": [
    "#Setting up the model\n",
    "\n",
    "\n",
    "from langchain_openai.chat_models import ChatOpenAI\n",
    "\n",
    "model = ChatOpenAI(openai_api_key=OPENAI_API_KEY, model=\"gpt-4o\") "
   ]
  },
  {
   "cell_type": "code",
   "execution_count": 107,
   "metadata": {},
   "outputs": [
    {
     "data": {
      "text/plain": [
       "AIMessage(content='As of my last update in 2023, there isn\\'t any widely recognized individual or entity known specifically as \"HyperSn1per.\" This could be a username or handle used by someone on social media, gaming platforms, or other online communities. If \"HyperSn1per\" is someone specific you\\'re referring to, please provide more context so I can better assist you!', response_metadata={'token_usage': {'completion_tokens': 74, 'prompt_tokens': 15, 'total_tokens': 89}, 'model_name': 'gpt-4o', 'system_fingerprint': 'fp_43dfabdef1', 'finish_reason': 'stop', 'logprobs': None})"
      ]
     },
     "execution_count": 107,
     "metadata": {},
     "output_type": "execute_result"
    }
   ],
   "source": [
    "#Check to see if the model we can invoke the model\n",
    "\n",
    "model.invoke(\"Who is the HyperSn1per?\")"
   ]
  },
  {
   "cell_type": "code",
   "execution_count": 108,
   "metadata": {},
   "outputs": [
    {
     "data": {
      "text/plain": [
       "\"I'm not exactly sure which message you are referring to. Could you please provide more context or details about the message you're asking about? This will help me give you a more accurate and helpful response.\""
      ]
     },
     "execution_count": 108,
     "metadata": {},
     "output_type": "execute_result"
    }
   ],
   "source": [
    "#We get an'AIMessage'. \n",
    "# We chain the the model with an output parser to get a string output.\n",
    "\n",
    "from langchain_core.output_parsers import StrOutputParser\n",
    "\n",
    "parser = StrOutputParser()\n",
    "\n",
    "chain = model | parser\n",
    "chain.invoke(\"How does the message look like now?\")"
   ]
  },
  {
   "cell_type": "code",
   "execution_count": 109,
   "metadata": {},
   "outputs": [
    {
     "data": {
      "text/plain": [
       "'Human: \\nAnswer the question based on the context below. If you can\\'t \\nanswer the question, reply \"I have no knowledge of that\".\\n\\nContext: Barbara Scalvini and Rúni Klein Hansen\\n\\nQuestion: Who is supervising Jacobs bachelor project?\\n'"
      ]
     },
     "execution_count": 109,
     "metadata": {},
     "output_type": "execute_result"
    }
   ],
   "source": [
    "# We want to provide the model with some context and the question.\n",
    "# We use prompt templates, which are a way to format the input for the model.\n",
    "\n",
    "from langchain.prompts import ChatPromptTemplate\n",
    "\n",
    "template = \"\"\"\n",
    "Answer the question based on the context below. If you can't \n",
    "answer the question, reply \"I have no knowledge of that\".\n",
    "\n",
    "Context: {context}\n",
    "\n",
    "Question: {question}\n",
    "\"\"\"\n",
    "\n",
    "prompt = ChatPromptTemplate.from_template(template)\n",
    "prompt.format(context=\"Barbara Scalvini and Rúni Klein Hansen\", question=\"Who is supervising Jacobs bachelor project?\")"
   ]
  },
  {
   "cell_type": "code",
   "execution_count": 110,
   "metadata": {},
   "outputs": [
    {
     "data": {
      "text/plain": [
       "'Barbara Scalvini and Rúni Klein Hansen are supervising Jacobs bachelor project.'"
      ]
     },
     "execution_count": 110,
     "metadata": {},
     "output_type": "execute_result"
    }
   ],
   "source": [
    "# chain the prompt, model and parser together to get the answer.\n",
    "\n",
    "chain = prompt | model | parser\n",
    "chain.invoke({\n",
    "    \"context\": \"Barbara Scalvini and Rúni Klein Hansen are supervising Jacobs bachelor project.\",\n",
    "    \"question\": \"Who is supervising Jacobs bachelor project?\"\n",
    "})"
   ]
  },
  {
   "cell_type": "code",
   "execution_count": 111,
   "metadata": {},
   "outputs": [],
   "source": [
    "# Read the file with UTF-8 encoding\n",
    "with open(\"Artificialus_Gaia_Terra_Simple_Format.txt\", encoding=\"utf-8\") as file:\n",
    "    content = file.read()\n",
    "\n",
    "# Replace the problematic character '\\x81' with a suitable character or remove it\n",
    "content_cleaned = content.replace('\\x81', '')\n",
    "\n",
    "# Save the cleaned text to a new file with CP1252 encoding\n",
    "with open(\"Artificialus_Gaia_Terra_Simple_Format_CP1252.txt\", \"w\", encoding=\"cp1252\", errors='replace') as file:\n",
    "    file.write(content_cleaned)\n"
   ]
  },
  {
   "cell_type": "code",
   "execution_count": 112,
   "metadata": {},
   "outputs": [
    {
     "data": {
      "text/plain": [
       "'# Discovery and Exploration of Artificialus Gaia Terra\\n\\n## Introduction: The Discovery of Artificialus Gaia Terra\\n\\nIn the year 2045, an international team of astronomers and astrophysicists embarked on a groundbreaking mission to explore the uncharted regions of the galaxy. Utilizing the latest advancements in deep space telescopy and interstellar probe technology, the team aimed to uncover new celestial bodies that might harbor life. After years of meticulous research and countless hours of obs'"
      ]
     },
     "execution_count": 112,
     "metadata": {},
     "output_type": "execute_result"
    }
   ],
   "source": [
    "with open(\"Artificialus_Gaia_Terra_Simple_Format_CP1252.txt\") as file:\n",
    "    artificialus = file.read()\n",
    "artificialus[:500]"
   ]
  },
  {
   "cell_type": "code",
   "execution_count": 113,
   "metadata": {},
   "outputs": [],
   "source": [
    "# If the transcript is too long, the model will not be able to process it.\n",
    "\n",
    "try:\n",
    "    chain.invoke({\n",
    "        \"context\": artificialus,\n",
    "        \"question\": \"what is on artificialus gaia terra?\"\n",
    "    })\n",
    "except Exception as e:\n",
    "    print(e)"
   ]
  },
  {
   "cell_type": "code",
   "execution_count": 114,
   "metadata": {},
   "outputs": [
    {
     "data": {
      "text/plain": [
       "[Document(page_content='# Discovery and Exploration of Artificialus Gaia Terra\\n\\n## Introduction: The Discovery of Artificialus Gaia Terra\\n\\nIn the year 2045, an international team of astronomers and astrophysicists embarked on a groundbreaking mission to explore the uncharted regions of the galaxy. Utilizing the latest advancements in deep space telescopy and interstellar probe technology, the team aimed to uncover new celestial bodies that might harbor life. After years of meticulous research and countless hours of observation, their efforts culminated in the discovery of a new planet, which they named Artificialus Gaia Terra (AGT).\\n\\nArtificialus Gaia Terra was first detected by the Jameson Deep Space Array, a network of powerful telescopes positioned in the outer reaches of our solar system. The initial data indicated that AGT was located approximately 50 light-years away from Earth, orbiting a star similar in size and composition to our Sun. The planet\\'s orbital path placed it within the habitable zone of its star, where conditions were favorable for the existence of liquid water—a key ingredient for life as we know it.\\n\\nThe discovery sparked a wave of excitement and anticipation within the scientific community. A specially designed probe, equipped with advanced sensors and autonomous exploration capabilities, was dispatched to Artificialus Gaia Terra to gather detailed information about the planet\\'s environment, geology, and potential biological inhabitants. After a journey lasting several years, the probe successfully entered orbit around AGT and began transmitting a wealth of data back to Earth.\\n\\n## The Biology of Artificialus Gaia Terra\\n\\nOne of the most remarkable discoveries on Artificialus Gaia Terra was the existence of a unique and complex biological entity, which scientists named the \"Luminara Viventis.\" This organism exhibited an array of fascinating and unprecedented biological features that distinguished it from any known life forms on Earth.\\n\\n### The Luminara Viventis\\n\\nThe Luminara Viventis is a large, multicellular organism that thrives in the dense forests covering much of AGT\\'s surface. Standing at an average height of 3 meters, the Luminara Viventis possesses a semi-transparent, bioluminescent exoskeleton that emits a soft, blue-green glow. This luminescence is generated by specialized cells known as photocytes, which contain light-producing organelles called photomeres. The bioluminescence serves multiple purposes, including communication, camouflage, and predation.\\n\\n#### Biological Features\\n\\n1. **Respiratory System**: Unlike terrestrial organisms that rely on lungs or gills for respiration, the Luminara Viventis utilizes a unique system of spiracles and tracheal tubes to absorb oxygen directly from the atmosphere. These spiracles are distributed along the sides of its body, allowing for efficient gas exchange even in the planet\\'s dense, oxygen-rich air.\\n\\n2. **Digestive System**: The Luminara Viventis has a highly specialized digestive system capable of processing a wide range of organic materials. Its primary diet consists of a variety of native plants and smaller organisms. The digestive tract is lined with enzymes that break down complex polysaccharides and proteins into simpler molecules, which are then absorbed through a series of villi-like structures.\\n\\n3. **Sensory Organs**: This organism is equipped with an advanced array of sensory organs, including compound eyes that provide a wide field of vision and excellent depth perception. Additionally, the Luminara Viventis has specialized chemoreceptors on its antennae, allowing it to detect chemical signals in the environment and locate potential food sources or mates.\\n\\n4. **Reproductive System**: The Luminara Viventis exhibits a form of hermaphroditism, possessing both male and female reproductive organs. This allows any two individuals to mate and produce offspring, ensuring genetic diversity within the population. The reproductive cycle is synchronized with the planet\\'s lunar phases, with mating occurring during the full moon when bioluminescence is most intense.\\n\\n5. **Defensive Mechanisms**: To protect itself from predators, the Luminara Viventis can secrete a sticky, toxic substance from glands located near its appendages. This substance contains a cocktail of neurotoxins that can immobilize or deter potential threats. Additionally, the organism can rapidly change the color and intensity of its bioluminescence to startle or confuse attackers.\\n\\n## The Physical Features and Laws of Artificialus Gaia Terra\\n\\nArtificialus Gaia Terra boasts a range of unique physical features and natural laws that contribute to its distinct environment. The planet\\'s atmosphere, gravity, and magnetic field all play crucial roles in shaping the conditions experienced by its inhabitants.\\n\\n### Atmospheric Composition\\n\\nThe atmosphere of AGT is composed primarily of nitrogen (72%), oxygen (26%), and trace amounts of other gases, including carbon dioxide, methane, and argon. This composition closely resembles that of Earth, allowing for the possibility of terrestrial-like life forms. However, the presence of higher oxygen levels has led to the development of larger and more energy-efficient organisms, such as the Luminara Viventis.\\n\\n### Gravity and Surface Conditions\\n\\nAGT has a surface gravity of 9.8 m/s², almost identical to Earth\\'s. This similarity in gravitational force means that human visitors would experience familiar physical sensations and movements. The planet\\'s surface is characterized by vast forests, expansive oceans, and towering mountain ranges, providing a diverse array of habitats for its native life forms.\\n\\n### The Novum Constant and Physical Laws\\n\\nOne of the most intriguing discoveries about Artificialus Gaia Terra is the presence of a unique physical constant, dubbed the \"Novum Constant\" (N?). This constant plays a critical role in the planet\\'s gravitational interactions and energy dynamics. The Novum Constant is defined as 4.23 x 10?? N·m²/kg² and is used in various equations to describe the behavior of objects and energy on AGT.\\n\\n#### The Gravitational Energy Formula\\n\\nA key formula incorporating the Novum Constant is used to calculate the gravitational potential energy (U) of an object on AGT. The formula is expressed as:\\n\\n    U = (N? * M * m) / r\\n\\nwhere:\\n- U is the gravitational potential energy in joules (J),\\n- N? is the Novum Constant (4.23 x 10?? N·m²/kg²),\\n- M is the mass of the planet (in kilograms),\\n- m is the mass of the object (in kilograms),\\n- r is the distance between the center of the planet and the object (in meters).\\n\\n#### Example Calculation\\n\\nConsider an object with a mass of 10 kg located 1000 meters above the surface of Artificialus Gaia Terra. The mass of AGT is estimated to be 5.97 x 10²? kg (similar to Earth\\'s mass). Using the formula, we can calculate the gravitational potential energy as follows:\\n\\n    U = (4.23 x 10?? * 5.97 x 10²? * 10) / 1000\\n\\nBreaking it down step-by-step:\\n\\n1. Calculate the product of the Novum Constant and the mass of the planet:\\n   \\n    4.23 x 10?? * 5.97 x 10²? = 2.5251 x 10¹?\\n\\n2. Multiply this result by the mass of the object:\\n\\n    2.5251 x 10¹? * 10 = 2.5251 x 10¹?\\n\\n3. Divide this by the distance (1000 meters):\\n\\n    2.5251 x 10¹? / 1000 = 2.5251 x 10¹?\\n\\nThus, the gravitational potential energy of the object 1000 meters above the surface of Artificialus Gaia Terra is 2.5251 x 10¹? joules.\\n\\n### Magnetic Field and Geophysical Phenomena\\n\\nArtificialus Gaia Terra also possesses a robust magnetic field, generated by the movement of molten metals within its core. This magnetic field not only shields the planet from harmful cosmic radiation but also contributes to spectacular auroras observed near the poles. These auroras are caused by charged particles from the star interacting with the planet\\'s magnetosphere, producing vibrant displays of light in the upper atmosphere.\\n\\n## Conclusion\\n\\nThe discovery of Artificialus Gaia Terra represents a monumental achievement in the field of astronomy and astrobiology. The planet\\'s unique biological and physical characteristics provide a wealth of opportunities for scientific exploration and understanding. From the fascinating biology of the Luminara Viventis to the novel physical laws governed by the Novum Constant, AGT offers a glimpse into the diverse possibilities of life and natural phenomena beyond our own world. As we continue to study and learn from this remarkable planet, we deepen our appreciation for the complexity and wonder of the universe.\\n', metadata={'source': 'Artificialus_Gaia_Terra_Simple_Format_CP1252.txt'})]"
      ]
     },
     "execution_count": 114,
     "metadata": {},
     "output_type": "execute_result"
    }
   ],
   "source": [
    "# Splitting the text into smaller chunks\n",
    "\n",
    "from langchain_community.document_loaders import TextLoader\n",
    "\n",
    "loader = TextLoader(\"Artificialus_Gaia_Terra_Simple_Format_CP1252.txt\")\n",
    "text_documents = loader.load()\n",
    "text_documents"
   ]
  },
  {
   "cell_type": "code",
   "execution_count": 115,
   "metadata": {},
   "outputs": [
    {
     "data": {
      "text/plain": [
       "[Document(page_content='# Discovery and Exploration of Artificialus Gaia Terra\\n\\n## Introduction: The Discovery of Artificialus Gaia Terra', metadata={'source': 'Artificialus_Gaia_Terra_Simple_Format_CP1252.txt'}),\n",
       " Document(page_content='In the year 2045, an international team of astronomers and astrophysicists embarked on a groundbreaking mission to explore the uncharted regions of the galaxy. Utilizing the latest advancements in deep space telescopy and interstellar probe', metadata={'source': 'Artificialus_Gaia_Terra_Simple_Format_CP1252.txt'}),\n",
       " Document(page_content='and interstellar probe technology, the team aimed to uncover new celestial bodies that might harbor life. After years of meticulous research and countless hours of observation, their efforts culminated in the discovery of a new planet, which they', metadata={'source': 'Artificialus_Gaia_Terra_Simple_Format_CP1252.txt'}),\n",
       " Document(page_content='a new planet, which they named Artificialus Gaia Terra (AGT).', metadata={'source': 'Artificialus_Gaia_Terra_Simple_Format_CP1252.txt'}),\n",
       " Document(page_content='Artificialus Gaia Terra was first detected by the Jameson Deep Space Array, a network of powerful telescopes positioned in the outer reaches of our solar system. The initial data indicated that AGT was located approximately 50 light-years away from', metadata={'source': 'Artificialus_Gaia_Terra_Simple_Format_CP1252.txt'})]"
      ]
     },
     "execution_count": 115,
     "metadata": {},
     "output_type": "execute_result"
    }
   ],
   "source": [
    "#Splitting the text into smaller chunks\n",
    "#Overlapping chunks a bit to provide the model with more context.\n",
    "\n",
    "from langchain.text_splitter import RecursiveCharacterTextSplitter\n",
    "\n",
    "text_splitter = RecursiveCharacterTextSplitter(chunk_size=250, chunk_overlap=25)\n",
    "text_splitter.split_documents(text_documents)[:5]"
   ]
  },
  {
   "cell_type": "code",
   "execution_count": 116,
   "metadata": {},
   "outputs": [],
   "source": [
    "text_splitter = RecursiveCharacterTextSplitter(chunk_size=250, chunk_overlap=20)\n",
    "documents = text_splitter.split_documents(text_documents)"
   ]
  },
  {
   "cell_type": "code",
   "execution_count": 117,
   "metadata": {},
   "outputs": [
    {
     "name": "stdout",
     "output_type": "stream",
     "text": [
      "Embedding length: 1536\n",
      "[0.012937129376419826, -0.024361308478119677, -0.008678452976855622, -0.010611668148098155, -0.0038734338881927124, 0.016194175805211694, -0.05483045387136096, -0.007095458397494795, -0.010989905251116865, -0.013329375433498963]\n"
     ]
    }
   ],
   "source": [
    "#Finding the relevant chunks for the question\n",
    "#Using OpenAI embeddings to find the most relevant chunks for the question.\n",
    "\n",
    "\n",
    "from langchain_openai.embeddings import OpenAIEmbeddings\n",
    "\n",
    "embeddings = OpenAIEmbeddings()\n",
    "embedded_query = embeddings.embed_query(\"What is on Artificialus Gaia Terra?\")\n",
    "\n",
    "print(f\"Embedding length: {len(embedded_query)}\")\n",
    "print(embedded_query[:10])"
   ]
  },
  {
   "cell_type": "code",
   "execution_count": 118,
   "metadata": {},
   "outputs": [],
   "source": [
    "# Testing the embeddings on some example sentences\n",
    "\n",
    "sentence1 = embeddings.embed_query(\"what is Artificialus Gaia Terra?\")\n",
    "sentence2 = embeddings.embed_query(\"What is the purpose of the Artificialus Gaia Terra?\")"
   ]
  },
  {
   "cell_type": "code",
   "execution_count": 119,
   "metadata": {},
   "outputs": [
    {
     "data": {
      "text/plain": [
       "(0.9764071802825847, 0.9369373139700932)"
      ]
     },
     "execution_count": 119,
     "metadata": {},
     "output_type": "execute_result"
    }
   ],
   "source": [
    "# Computing the cosine similarity between the query and the sentences\n",
    "\n",
    "from sklearn.metrics.pairwise import cosine_similarity\n",
    "\n",
    "query_sentence1_similarity = cosine_similarity([embedded_query], [sentence1])[0][0]\n",
    "query_sentence2_similarity = cosine_similarity([embedded_query], [sentence2])[0][0]\n",
    "\n",
    "query_sentence1_similarity, query_sentence2_similarity"
   ]
  },
  {
   "cell_type": "code",
   "execution_count": 120,
   "metadata": {},
   "outputs": [],
   "source": [
    "# Setting up a test vector store with the text chunks with the embeddings\n",
    "\n",
    "from langchain_community.vectorstores import DocArrayInMemorySearch\n",
    "\n",
    "vectorstoreTest = DocArrayInMemorySearch.from_texts(\n",
    "    [\n",
    "        \"Artificialus Gaia Terra is a newly discovered planet.\",\n",
    "        \"The planet is located in the Andromeda galaxy.\",\n",
    "    ],\n",
    "    embedding=embeddings,\n",
    ")"
   ]
  },
  {
   "cell_type": "markdown",
   "metadata": {},
   "source": [
    "We can now query the vector store to find the most similar embeddings to a given query:"
   ]
  },
  {
   "cell_type": "code",
   "execution_count": 121,
   "metadata": {},
   "outputs": [
    {
     "data": {
      "text/plain": [
       "[(Document(page_content='Artificialus Gaia Terra is a newly discovered planet.'),\n",
       "  0.9119137523144009),\n",
       " (Document(page_content='The planet is located in the Andromeda galaxy.'),\n",
       "  0.7778518144768889)]"
      ]
     },
     "execution_count": 121,
     "metadata": {},
     "output_type": "execute_result"
    }
   ],
   "source": [
    "vectorstoreTest.similarity_search_with_score(query=\"What is on Artificialus Gaia Terra?\", k=3)"
   ]
  },
  {
   "cell_type": "code",
   "execution_count": 122,
   "metadata": {},
   "outputs": [
    {
     "data": {
      "text/plain": [
       "[Document(page_content='Artificialus Gaia Terra is a newly discovered planet.'),\n",
       " Document(page_content='The planet is located in the Andromeda galaxy.')]"
      ]
     },
     "execution_count": 122,
     "metadata": {},
     "output_type": "execute_result"
    }
   ],
   "source": [
    "# Connecting the vector store to the model\n",
    "\n",
    "# We configure a retriever to use the vector store to find the most relevant chunks for the question.\n",
    "# Retriever runs similarity search on the vector store and retrieves the most similar chunk to the next step of the chain.\n",
    "\n",
    "retriever = vectorstoreTest.as_retriever(search_kwargs={\"k\": 2})\n",
    "retriever.invoke(\"What is on Artificialus Gaia Terra?\")"
   ]
  },
  {
   "cell_type": "code",
   "execution_count": 123,
   "metadata": {},
   "outputs": [
    {
     "data": {
      "text/plain": [
       "{'context': [Document(page_content='Artificialus Gaia Terra is a newly discovered planet.'),\n",
       "  Document(page_content='The planet is located in the Andromeda galaxy.')],\n",
       " 'question': 'What is on Artificialus Gaia Terra??'}"
      ]
     },
     "execution_count": 123,
     "metadata": {},
     "output_type": "execute_result"
    }
   ],
   "source": [
    "# The prompt expects two parameters, \"context\" and \"question.\" The retriever is used to find the chunks we'll use as the context to answer the question.\n",
    "\n",
    "# A map is created with the two inputs by using the [`RunnableParallel`] and [`RunnablePassthrough`] classes. \n",
    "# This will allows to pass the context and question to the prompt as a map with the keys \"context\" and \"question.\"\n",
    "\n",
    "from langchain_core.runnables import RunnableParallel, RunnablePassthrough\n",
    "\n",
    "setup = RunnableParallel(context=retriever, question=RunnablePassthrough())\n",
    "setup.invoke(\"What is on Artificialus Gaia Terra??\")"
   ]
  },
  {
   "cell_type": "code",
   "execution_count": 140,
   "metadata": {},
   "outputs": [
    {
     "data": {
      "text/plain": [
       "'I have no knowledge of that.'"
      ]
     },
     "execution_count": 140,
     "metadata": {},
     "output_type": "execute_result"
    }
   ],
   "source": [
    "# adding the setup map to the chain\n",
    "\n",
    "chain = setup | prompt | model | parser\n",
    "chain.invoke(\"What is a Luminara Viventis\")"
   ]
  },
  {
   "cell_type": "markdown",
   "metadata": {},
   "source": [
    "Let's invoke the chain using another example:"
   ]
  },
  {
   "cell_type": "code",
   "execution_count": 141,
   "metadata": {},
   "outputs": [
    {
     "data": {
      "text/plain": [
       "'I have no knowledge of that.'"
      ]
     },
     "execution_count": 141,
     "metadata": {},
     "output_type": "execute_result"
    }
   ],
   "source": [
    "chain.invoke(\"What is a Luminara Viventis?\")"
   ]
  },
  {
   "cell_type": "code",
   "execution_count": 142,
   "metadata": {},
   "outputs": [],
   "source": [
    "# creating a new vector store with the text chunks from a document\n",
    "vectorstoreFromDocEmbed = DocArrayInMemorySearch.from_documents(documents, embeddings)"
   ]
  },
  {
   "cell_type": "code",
   "execution_count": 143,
   "metadata": {},
   "outputs": [
    {
     "data": {
      "text/plain": [
       "\"The Luminara Viventis is a large, multicellular organism that thrives in the dense forests covering much of AGT's surface. It stands at an average height of 3 meters and possesses a semi-transparent, bioluminescent exoskeleton.\""
      ]
     },
     "execution_count": 143,
     "metadata": {},
     "output_type": "execute_result"
    }
   ],
   "source": [
    "# Setting up a new chain using the vector store and specify the RunnableParallel portion of the chain\n",
    "\n",
    "chain = (\n",
    "    {\"context\": vectorstoreFromDocEmbed.as_retriever(), \"question\": RunnablePassthrough()}\n",
    "    | prompt\n",
    "    | model\n",
    "    | parser\n",
    ")\n",
    "chain.invoke(\"What is a Luminara Viventis\")"
   ]
  },
  {
   "cell_type": "code",
   "execution_count": 128,
   "metadata": {},
   "outputs": [],
   "source": [
    "# Setting up pinecone vector store\n",
    "\n",
    "from langchain_pinecone import PineconeVectorStore\n",
    "\n",
    "index_name = \"rag-index\"\n",
    "\n",
    "pinecone = PineconeVectorStore.from_documents(\n",
    "    documents, embeddings, index_name=index_name\n",
    ")"
   ]
  },
  {
   "cell_type": "code",
   "execution_count": 129,
   "metadata": {},
   "outputs": [
    {
     "data": {
      "text/plain": [
       "[]"
      ]
     },
     "execution_count": 129,
     "metadata": {},
     "output_type": "execute_result"
    }
   ],
   "source": [
    "# Testing the pinecone vector store\n",
    "\n",
    "pinecone.similarity_search(\"What is Artificialus Gaia Terra?\")[:1]"
   ]
  },
  {
   "cell_type": "code",
   "execution_count": 158,
   "metadata": {},
   "outputs": [
    {
     "data": {
      "text/plain": [
       "'The higher oxygen levels in the atmosphere of AGT contribute significantly to the size and energy efficiency of organisms like the Luminara Viventis. Oxygen is a critical element for the metabolic processes of most aerobic organisms, and higher concentrations of oxygen can enhance these processes. This means that organisms on AGT can support larger body sizes and more complex energy demands.\\n\\nFor the Luminara Viventis, which stands at an average height of 3 meters, the increased availability of oxygen allows for the development of a larger and more complex multicellular structure. The enhanced oxygen levels enable more efficient respiration and energy production, which is essential for sustaining larger organisms. Additionally, the bioluminescent exoskeleton of the Luminara Viventis might also be an adaptation that benefits from the higher oxygen availability, possibly aiding in more effective energy utilization and environmental interactions.\\n\\nIn summary, the elevated oxygen levels on AGT facilitate the evolution of larger and more energy-efficient organisms like the Luminara Viventis, supporting their complex biological functions and significant physical size.'"
      ]
     },
     "execution_count": 158,
     "metadata": {},
     "output_type": "execute_result"
    }
   ],
   "source": [
    "# Adding the pinecone vector store to the chain\n",
    "\n",
    "chain = (\n",
    "    {\"context\": pinecone.as_retriever(), \"question\": RunnablePassthrough()}\n",
    "    | prompt\n",
    "    | model\n",
    "    | parser\n",
    ")\n",
    "\n",
    "chain.invoke(\"The atmosphere of AGT has higher oxygen levels than Earth's. Discuss how this affects the size and energy efficiency of organisms like the Luminara Viventis.\")"
   ]
  }
 ],
 "metadata": {
  "kernelspec": {
   "display_name": "base",
   "language": "python",
   "name": "python3"
  },
  "language_info": {
   "codemirror_mode": {
    "name": "ipython",
    "version": 3
   },
   "file_extension": ".py",
   "mimetype": "text/x-python",
   "name": "python",
   "nbconvert_exporter": "python",
   "pygments_lexer": "ipython3",
   "version": "3.11.3"
  },
  "orig_nbformat": 4
 },
 "nbformat": 4,
 "nbformat_minor": 2
}
